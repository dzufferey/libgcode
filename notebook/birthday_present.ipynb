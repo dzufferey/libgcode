{
 "cells": [
  {
   "cell_type": "markdown",
   "id": "1d22cd3a-6af7-4231-ac92-230779e428b0",
   "metadata": {},
   "source": [
    "# A Birthday Present"
   ]
  },
  {
   "cell_type": "code",
   "execution_count": null,
   "id": "532b3dad-6c99-41b4-ac4c-431ad33d7495",
   "metadata": {},
   "outputs": [],
   "source": [
    "import coursierapi._\n",
    "interp.repositories() +:= MavenRepository.of(\"https://jitpack.io\")"
   ]
  },
  {
   "cell_type": "code",
   "execution_count": null,
   "id": "17e781f0-3a4a-4768-a0e6-e1ea398744df",
   "metadata": {},
   "outputs": [],
   "source": [
    "import $ivy.`com.github.dzufferey::libgcode:0.1-SNAPSHOT`\n",
    "import libgcode.utils.Viewer\n",
    "import libgcode._\n",
    "import libgcode.extractor._\n",
    "import libgcode.generator._\n",
    "import libgcode.utils._\n",
    "import scala.collection.mutable.ArrayBuffer"
   ]
  },
  {
   "cell_type": "markdown",
   "id": "c7a19ad4-4953-403a-92ff-0e9d9bd6d9d9",
   "metadata": {},
   "source": [
    "## Config\n",
    "\n",
    "Grinding sandstone with a diamond bit.\n",
    "Go slow with a big depth of cut"
   ]
  },
  {
   "cell_type": "code",
   "execution_count": null,
   "id": "6a4fdbd5-7118-474e-b7e6-da87edffa47d",
   "metadata": {},
   "outputs": [],
   "source": [
    "// 6mm ball\n",
    "val conf1 = new Config\n",
    "conf1.safeHeight = 5.0\n",
    "conf1.feed = 180\n",
    "conf1.endmillDiameter = 6.0\n",
    "conf1.depthOfCut = 2.0 // 18.0\n",
    "conf1.finishingPass = 0.0\n",
    "conf1.travelHeight = 1.0\n",
    "conf1.climb = false\n",
    "conf1.stepOver = 0.2\n",
    "\n",
    "// 12mm flat\n",
    "val conf2 = new Config\n",
    "conf2.safeHeight = 5.0\n",
    "conf2.feed = 180\n",
    "conf2.endmillDiameter = 12.0\n",
    "conf2.depthOfCut = 8.0\n",
    "conf2.finishingPass = 0.0\n",
    "conf2.travelHeight = 1.0\n",
    "conf2.climb = false\n",
    "conf1.stepOver = 0.2"
   ]
  },
  {
   "cell_type": "markdown",
   "id": "36dd8f3f-d985-4156-9f8e-82f50f3fc57f",
   "metadata": {},
   "source": [
    "## Part 1: Heart Shape\n",
    "\n",
    "With a scale of 1, the heart is about `x` in `[-16,16]`, `y` in `[-16, 12]`, `z` in `[-1,0]`.\n",
    "\n",
    "Different types of curve can be found at http://www.mathematische-basteleien.de/heart.htm"
   ]
  },
  {
   "cell_type": "code",
   "execution_count": null,
   "id": "acd90b84-0722-4e59-a85c-d9ea6ea5b72f",
   "metadata": {},
   "outputs": [],
   "source": [
    "class HeartSurface(xScale: Double, yScale: Double, zScale: Double) {\n",
    "    import math._\n",
    "    def x(u: Double, v: Double): Double = {\n",
    "        val u2pi = 2 * Pi* u\n",
    "        xScale * v * (12*sin(u2pi) - 4*sin(3*u2pi))\n",
    "    }\n",
    "    def y(u: Double, v: Double): Double = {\n",
    "        val u2pi = 2 * Pi* u\n",
    "        yScale * v * (13*cos(u2pi) - 5*cos(2*u2pi) - 2*cos(3*u2pi) - cos(4*u2pi))\n",
    "    }\n",
    "    def z(u: Double, v: Double): Double = {\n",
    "        -zScale * pow(v, 6)\n",
    "    }\n",
    "    def apply(u: Double, v: Double): (Double, Double, Double) = (x(u,v), y(u,v), z(u,v))\n",
    "}"
   ]
  },
  {
   "cell_type": "code",
   "execution_count": null,
   "id": "a9ef5f31-737c-4161-8c2b-c7e4cbcfa812",
   "metadata": {},
   "outputs": [],
   "source": [
    "val xScale = 2\n",
    "val yScale = 2\n",
    "val zScale = 15\n",
    "val uTics = 500\n",
    "val vTics = 200"
   ]
  },
  {
   "cell_type": "markdown",
   "id": "c7bb7329-6ce9-4c6c-8d12-2249b40a8d21",
   "metadata": {},
   "source": [
    "### Surface"
   ]
  },
  {
   "cell_type": "code",
   "execution_count": null,
   "id": "302c8201-fcc8-4915-98d7-5a66a0548ca5",
   "metadata": {},
   "outputs": [],
   "source": [
    "class Heart extends Program(conf1) {\n",
    "    \n",
    "    val h = new HeartSurface(xScale, yScale, zScale)\n",
    "    \n",
    "    val uRange = (0 to uTics).map( x => x.toDouble / uTics )\n",
    "    \n",
    "    val vRange = (0 to vTics).map( x => math.sqrt(x.toDouble / vTics) )\n",
    "    \n",
    "    val minDist = 0.2\n",
    "    val xPlungeOffset = 10\n",
    "    \n",
    "    // ignore points that are too close to each other\n",
    "    def keep(x0: Double, y0: Double, z0: Double,\n",
    "             x1: Double, y1: Double, z1: Double) = {\n",
    "        val dx = x0 - x1\n",
    "        val dy = y0 - y1\n",
    "        val dz = z0 - z1\n",
    "        math.sqrt(dx*dx + dy*dy + dz*dz) >= minDist\n",
    "    }\n",
    "    \n",
    "    def body = {\n",
    "        val cmds = scala.collection.mutable.ArrayBuffer.empty[Command]\n",
    "        val start = h(0, 0)\n",
    "        var x0: Double = start._1\n",
    "        var y0: Double = start._2\n",
    "        var z0: Double = start._3\n",
    "        cmds += G(0, X(x0 - xPlungeOffset), Y(y0))\n",
    "        cmds += G(0, Z(z0 + conf1.travelHeight))\n",
    "        cmds += G(0, X(x0), Y(y0), Z(z0))\n",
    "        for (v <- vRange; u <- uRange) {\n",
    "            val (x1, y1, z1) = h(u, v)\n",
    "            if (keep(x0,y0,z0,x1,y1,z1)) {\n",
    "                cmds += G(1, X(x1), Y(y1), Z(z1))\n",
    "                x0 = x1\n",
    "                y0 = y1\n",
    "                z0 = z1\n",
    "            }\n",
    "        }\n",
    "        cmds += G(0, Z(start._3 + conf1.travelHeight))\n",
    "        cmds += G(0, X(start._1), Y(start._2))\n",
    "        cmds.toSeq\n",
    "    }\n",
    "\n",
    "}"
   ]
  },
  {
   "cell_type": "code",
   "execution_count": null,
   "id": "0d7ab632-cc53-4657-bc59-5fcc969ff317",
   "metadata": {},
   "outputs": [],
   "source": [
    "val h = new Heart\n",
    "//h.display //FIXME this is too much for the built-in viewer\n",
    "h.save(\"heart.nc\")"
   ]
  },
  {
   "cell_type": "markdown",
   "id": "98c7ee2c-e6d9-487f-9dc0-a2bc3da3ee59",
   "metadata": {},
   "source": [
    "### Outline"
   ]
  },
  {
   "cell_type": "code",
   "execution_count": null,
   "id": "00f31383-f97f-4490-b20f-2700e9b4f5fb",
   "metadata": {},
   "outputs": [],
   "source": [
    "class HeartOutline extends Program(conf1) {\n",
    "    val h = new HeartSurface(xScale, yScale, zScale)\n",
    "    val uRange = (0 to uTics).map( x => x.toDouble / uTics )\n",
    "    val yPlungeOffset = 10\n",
    "    def body = {\n",
    "        val cmds = scala.collection.mutable.ArrayBuffer.empty[Command]\n",
    "        val (x0, y0, _) = h(0, 1)\n",
    "        cmds += G(0, X(x0), Y(y0 - yPlungeOffset))\n",
    "        cmds += G(0, Z(conf1.travelHeight))\n",
    "        cmds += G(0, X(x0), Y(y0), Z(0))\n",
    "        for (u <- uRange) {\n",
    "            val (x, y, _) = h(u, 1)\n",
    "            cmds += G(1, X(x), Y(y))\n",
    "        }\n",
    "        G(0, Z(conf1.travelHeight))\n",
    "        cmds += G(0, X(x0), Y(y0))\n",
    "        cmds.toSeq\n",
    "    }\n",
    "}"
   ]
  },
  {
   "cell_type": "code",
   "execution_count": null,
   "id": "168deb0c-811b-4343-9777-7d24bac910ec",
   "metadata": {},
   "outputs": [],
   "source": [
    "val h = new HeartOutline\n",
    "h.display\n",
    "h.save(\"heart_outline.nc\")"
   ]
  },
  {
   "cell_type": "markdown",
   "id": "30eb8bc1-f0b8-4feb-a512-89e309f7378a",
   "metadata": {},
   "source": [
    "## Part 2: Hole for a Candle"
   ]
  },
  {
   "cell_type": "code",
   "execution_count": null,
   "id": "6126747b-6e50-4076-b9ca-e33a66332e15",
   "metadata": {},
   "outputs": [],
   "source": [
    "val candleDiameter = 40.0\n",
    "val candleHeight = 15.0\n",
    "val chamfer = 4.0\n",
    "val chamferRadiusDelta = 2.0"
   ]
  },
  {
   "cell_type": "markdown",
   "id": "163ade6c-f55d-48f7-b6d5-544453bf9fe7",
   "metadata": {},
   "source": [
    "### Roughing"
   ]
  },
  {
   "cell_type": "code",
   "execution_count": null,
   "id": "94240a71-ce9e-45e8-ae4d-17cdf2d43315",
   "metadata": {},
   "outputs": [],
   "source": [
    "class HoleRoughing extends Program(conf1) {\n",
    "    def body = {\n",
    "        //Hole.roughing(0, 0, 0, candleDiameter/2, candleHeight, false)(conf)\n",
    "        Hole.finishing(0, 0, 0, candleDiameter/2, candleHeight, false)(conf)\n",
    "    }\n",
    "}"
   ]
  },
  {
   "cell_type": "code",
   "execution_count": null,
   "id": "a8fc3226-c0b0-46eb-9c8c-0fc9fa314dc7",
   "metadata": {},
   "outputs": [],
   "source": [
    "val h = new HoleRoughing\n",
    "h.display\n",
    "h.save(\"hole_roughing.nc\")"
   ]
  },
  {
   "cell_type": "markdown",
   "id": "8f094592-26e4-4bb1-a451-6685ad4b5e0c",
   "metadata": {},
   "source": [
    "### Finishing the hole"
   ]
  },
  {
   "cell_type": "code",
   "execution_count": null,
   "id": "7985e42e-7f94-463d-95b1-4a95672cf9d2",
   "metadata": {},
   "outputs": [],
   "source": [
    "class HoleFinishing extends Program(conf2) {\n",
    "    def body = {\n",
    "        Hole.finishing(0, 0, 0, candleDiameter/2, candleHeight, false)(conf)\n",
    "    }\n",
    "}"
   ]
  },
  {
   "cell_type": "code",
   "execution_count": null,
   "id": "ad8f6d5e-680c-45f2-9277-8261eef03d40",
   "metadata": {},
   "outputs": [],
   "source": [
    "val h = new HoleFinishing\n",
    "h.display\n",
    "h.save(\"hole_finishing.nc\")"
   ]
  },
  {
   "cell_type": "markdown",
   "id": "c1bb7e70-5520-4480-9de9-e99b3244a7a3",
   "metadata": {},
   "source": [
    "### Chamfering the Edges"
   ]
  },
  {
   "cell_type": "code",
   "execution_count": null,
   "id": "e57f3ebd-34e2-4dde-a19b-dc8eee83d4b8",
   "metadata": {},
   "outputs": [],
   "source": [
    "class HoleChamfer extends Program(conf1) {\n",
    "    def body = {\n",
    "        Spiral(0, 0, -(chamfer+chamferRadiusDelta), candleDiameter/2 - chamferRadiusDelta)(conf)\n",
    "    }\n",
    "}"
   ]
  },
  {
   "cell_type": "code",
   "execution_count": null,
   "id": "25baadbc-09cd-40a1-ab62-ac46017354ed",
   "metadata": {},
   "outputs": [],
   "source": [
    "val h = new HoleChamfer\n",
    "h.display\n",
    "h.save(\"hole_chamfer.nc\")"
   ]
  },
  {
   "cell_type": "code",
   "execution_count": null,
   "id": "8a7454f9-1ec1-4c9c-9c34-3cf14f1b1068",
   "metadata": {},
   "outputs": [],
   "source": []
  }
 ],
 "metadata": {
  "kernelspec": {
   "display_name": "Scala",
   "language": "scala",
   "name": "scala"
  },
  "language_info": {
   "codemirror_mode": "text/x-scala",
   "file_extension": ".sc",
   "mimetype": "text/x-scala",
   "name": "scala",
   "nbconvert_exporter": "script",
   "version": "2.13.4"
  }
 },
 "nbformat": 4,
 "nbformat_minor": 5
}
