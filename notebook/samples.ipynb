{
 "cells": [
  {
   "cell_type": "markdown",
   "metadata": {},
   "source": [
    "# Libcode Examples\n",
    "\n",
    "This file contains some example of using `libgcode` to make nc program.\n",
    "\n",
    "There are more examples in [old.ipynb](old.ipynb) which don't use some new features.\n",
    "\n",
    "## Setup\n",
    "\n",
    "All the imports.\n",
    "First, adding the additional repo for the dependecies and then loading `libgcode`.\n",
    "Don't forget to run `sbt publishLocal` in the `libgcode` folder."
   ]
  },
  {
   "cell_type": "code",
   "execution_count": null,
   "metadata": {},
   "outputs": [],
   "source": [
    "import coursierapi._\n",
    "interp.repositories() +:= MavenRepository.of(\"https://jitpack.io\")"
   ]
  },
  {
   "cell_type": "code",
   "execution_count": null,
   "metadata": {},
   "outputs": [],
   "source": [
    "import $ivy.`com.github.dzufferey::libgcode:0.1-SNAPSHOT`\n",
    "import libgcode.utils.Viewer\n",
    "import libgcode._\n",
    "import libgcode.extractor._\n",
    "import libgcode.generator._\n",
    "import libgcode.utils.geometry._\n",
    "import scala.collection.mutable.ArrayBuffer"
   ]
  },
  {
   "cell_type": "markdown",
   "metadata": {},
   "source": [
    "# Config\n",
    "\n",
    "Part of the design includes a `Config` object.\n",
    "The config has properties about the endmill, feedrate, deth of cut, etc."
   ]
  },
  {
   "cell_type": "code",
   "execution_count": null,
   "metadata": {},
   "outputs": [],
   "source": [
    "val conf = new Config\n",
    "conf.safeHeight = 5.0\n",
    "conf.feed = 600\n",
    "conf.endmillDiameter = 5.0\n",
    "conf.depthOfCut = 0.25\n",
    "conf.finishingPass = 0.2\n",
    "conf.travelHeight = 1.0"
   ]
  },
  {
   "cell_type": "markdown",
   "metadata": {},
   "source": [
    "# Program\n",
    "\n",
    "To factor out some of the boilerplate, a nc file should extend the `Program` class.\n",
    "Inside a program, on need to define the `body` method which returns a `Seq[Command]`.\n",
    "The program has predfined `header` and `footer` which can be overridden.\n",
    "\n",
    "A program takes a configuration as constructor argument.\n",
    "Here, we are hardwiring the config to the reference above to make thing simple.\n",
    "\n",
    "## Simple Test\n",
    "\n",
    "This is a simple program that cut some slots in a 60x60mm aluminium block.\n",
    "The operation what done on both side of the block and then turned into t-nuts."
   ]
  },
  {
   "cell_type": "code",
   "execution_count": null,
   "metadata": {},
   "outputs": [],
   "source": [
    "class Slots extends Program(conf) {\n",
    "    \n",
    "    //origin is lower left corner of blank\n",
    "    val blankSize = 60.0\n",
    "    val gap = 5.0\n",
    "    assert(conf.endmillDiameter == 5.0)\n",
    "    val depth = 2.1\n",
    "    \n",
    "    def body = {\n",
    "        val cmds = scala.collection.mutable.ArrayBuffer.empty[Command]\n",
    "        val n = (blankSize / (gap + conf.endmillDiameter)).round.toInt\n",
    "        var currentDepth = 0.0\n",
    "        val xStart = -conf.endmillRadius - 1\n",
    "        val xEnd = blankSize + conf.endmillRadius + 1\n",
    "        while (currentDepth < depth) {\n",
    "            currentDepth = math.min(depth, currentDepth+conf.depthOfCut)\n",
    "            cmds += G(0, Z(conf.travelHeight))\n",
    "            cmds += G(0, X(xStart), Y(gap + conf.endmillRadius))\n",
    "            cmds += G(1, Z(-currentDepth), F(conf.plungeFeed))\n",
    "            cmds += Empty(F(conf.feed))\n",
    "            for (i <- 0 until n) {\n",
    "                cmds += G(1, Y(i*(gap + conf.endmillDiameter) + gap + conf.endmillRadius))\n",
    "                if (i % 2 == 0) {\n",
    "                    cmds += G(1, X(xEnd))\n",
    "                } else {\n",
    "                    cmds += G(1, X(xStart))\n",
    "                }\n",
    "            }\n",
    "        }\n",
    "        cmds.toSeq\n",
    "    }\n",
    "    \n",
    "}"
   ]
  },
  {
   "cell_type": "markdown",
   "metadata": {},
   "source": [
    "## Visualization\n",
    "\n",
    "A program can be shown with:"
   ]
  },
  {
   "cell_type": "code",
   "execution_count": null,
   "metadata": {},
   "outputs": [],
   "source": [
    "(new Slots).display"
   ]
  },
  {
   "cell_type": "markdown",
   "metadata": {},
   "source": [
    "## Saving NC file\n",
    "\n",
    "A program can be save as an `.nc` file with:"
   ]
  },
  {
   "cell_type": "code",
   "execution_count": null,
   "metadata": {},
   "outputs": [],
   "source": [
    "(new Slots).save(\"slots_for_tnuts.nc\")"
   ]
  },
  {
   "cell_type": "markdown",
   "metadata": {},
   "source": [
    "## Surfacing\n",
    "\n",
    "Here is an example of program to clean a rectangular surface.\n",
    "\n",
    "This program takes advangage of `libgcode.generator.Rectangle`.\n",
    "`Rectangle` provides a sub-program that make one layer of this overall program."
   ]
  },
  {
   "cell_type": "code",
   "execution_count": null,
   "metadata": {},
   "outputs": [],
   "source": [
    "class Surface(width: Double, length: Double, depth: Double) extends libgcode.generator.Program(conf) {\n",
    "    implicit val c = conf\n",
    "    def body = {\n",
    "        val nTurn = math.ceil( (depth.abs - conf.finishingPass) /  conf.depthOfCut).toInt\n",
    "        val effectiveDoC = (depth.abs - conf.finishingPass) / nTurn\n",
    "        val layers = for (i <- 0 until nTurn) yield Rectangle(0, 0, -i*effectiveDoC, width, length, effectiveDoC, false)\n",
    "        if (conf.finishingPass > 0) {\n",
    "            layers.flatten ++ Rectangle(0, 0, -depth.abs + conf.finishingPass, width, length, conf.finishingPass, false)\n",
    "        } else {\n",
    "            layers.flatten\n",
    "        }\n",
    "    }\n",
    "}"
   ]
  },
  {
   "cell_type": "code",
   "execution_count": null,
   "metadata": {},
   "outputs": [],
   "source": [
    "conf.feed = 600\n",
    "conf.endmillDiameter = 12.0\n",
    "conf.depthOfCut = 0.5\n",
    "conf.finishingPass = 0.2\n",
    "val s = new Surface(67, 114, 2)\n",
    "s.display"
   ]
  },
  {
   "cell_type": "code",
   "execution_count": null,
   "metadata": {},
   "outputs": [],
   "source": [
    "s.save(\"surface_2mm.nc\")"
   ]
  },
  {
   "cell_type": "markdown",
   "metadata": {},
   "source": [
    "## Pocket\n",
    "\n",
    "Here is an example to make a rectangular pocket"
   ]
  },
  {
   "cell_type": "code",
   "execution_count": null,
   "metadata": {},
   "outputs": [],
   "source": [
    "conf.safeHeight = 5.0\n",
    "conf.feed = 600\n",
    "conf.endmillDiameter = 6.0\n",
    "conf.depthOfCut = 1.0\n",
    "conf.finishingPass = 0.2\n",
    "\n",
    "class Pocket(x: Double, y: Double, z: Double,\n",
    "             width: Double, length: Double, depth: Double,\n",
    "             sideOnly: Boolean = false) extends libgcode.generator.Program(conf) {\n",
    "    \n",
    "    implicit val c = conf\n",
    "    \n",
    "    def center(x0: Double, x1: Double,\n",
    "               y0: Double, y1: Double,\n",
    "               z0: Double, z1: Double,\n",
    "               cmds: ArrayBuffer[Command]) = {\n",
    "        val (nTurn, effectiveDoC) = evenSteps(z0, z1, conf.depthOfCut)\n",
    "        for (i <- 0 until nTurn) {\n",
    "            cmds ++= Rectangle(x0, y0, z0 + i * effectiveDoC,\n",
    "                               x1 - x0, y1 - y0, effectiveDoC.abs)\n",
    "        }\n",
    "    }\n",
    "    \n",
    "    //TODO connection to the last part is not working \n",
    "    def sides(x0: Double, x1: Double,\n",
    "              y0: Double, y1: Double,\n",
    "              z0: Double, z1: Double,\n",
    "              cmds: ArrayBuffer[Command]) = {\n",
    "        val (nTurn, effectiveDoC) = evenSteps(z0, z1, conf.depthOfCut)\n",
    "        val r = conf.endmillRadius\n",
    "        cmds += G(0, X(x0 + r), Y(y0 + r))\n",
    "        cmds += G(0, Z(z0 + conf.travelHeight))\n",
    "        cmds += G(1, Z(z0))\n",
    "        for (i <- 0 until nTurn) {\n",
    "            if (conf.climb) {\n",
    "                cmds += G(1, X(x1 - r), Y(y0 + r), Z(z0 + (i + 0.25) *  effectiveDoC))\n",
    "                cmds += G(1, X(x1 - r), Y(y1 - r), Z(z0 + (i + 0.50) *  effectiveDoC))\n",
    "                cmds += G(1, X(x0 + r), Y(y1 - r), Z(z0 + (i + 0.75) *  effectiveDoC))\n",
    "                cmds += G(1, X(x0 + r), Y(y0 + r), Z(z0 + (i + 1.00) *  effectiveDoC))\n",
    "            } else {\n",
    "                cmds += G(1, X(x0 + r), Y(y1 - r), Z(z0 + (i + 0.25) *  effectiveDoC))\n",
    "                cmds += G(1, X(x1 - r), Y(y1 - r), Z(z0 + (i + 0.50) *  effectiveDoC))\n",
    "                cmds += G(1, X(x1 - r), Y(y0 + r), Z(z0 + (i + 0.75) *  effectiveDoC))\n",
    "                cmds += G(1, X(x0 + r), Y(y0 + r), Z(z0 + (i + 1.00) *  effectiveDoC))\n",
    "            }\n",
    "            \n",
    "        }\n",
    "        cmds ++= Rectangle(x0, y0, z1 - effectiveDoC,\n",
    "                           x1 - x0, y1 - y0, effectiveDoC.abs)\n",
    "    }\n",
    "    \n",
    "    def body = {\n",
    "        val cmds = ArrayBuffer.empty[Command]\n",
    "        val fp = conf.finishingPass\n",
    "        if (!sideOnly) {\n",
    "            center(x + fp, x + width - fp,\n",
    "                   y + fp, y + length - fp,\n",
    "                   0, z - depth + fp,\n",
    "                   cmds)\n",
    "        } else {\n",
    "            sides(x + fp, x + width - fp,\n",
    "                  y + fp, y + length - fp,\n",
    "                  0, z - depth + fp,\n",
    "                  cmds)\n",
    "        }\n",
    "        // finishing is only side\n",
    "        if (fp > 0.0) {\n",
    "            cmds += G(0, Z(z + conf.travelHeight))\n",
    "            sides(x, x + width,\n",
    "                  y, y + length,\n",
    "                  0, z - depth,\n",
    "                  cmds)\n",
    "        }\n",
    "        cmds.toSeq\n",
    "    }\n",
    "\n",
    "}"
   ]
  },
  {
   "cell_type": "code",
   "execution_count": null,
   "metadata": {},
   "outputs": [],
   "source": [
    "conf.safeHeight = 5.0\n",
    "conf.feed = 600\n",
    "conf.endmillDiameter = 6.0\n",
    "conf.depthOfCut = 1.0\n",
    "conf.finishingPass = 0.2\n",
    "conf.stepOver = 0.75\n",
    "\n",
    "def pocketForBlock(width: Double, length: Double, depth: Double, wall: Double, onlySides: Boolean = false) = {\n",
    "    new Pocket(wall, wall, 0,\n",
    "               width - 2*wall, length - 2*wall, depth - wall, onlySides)\n",
    "}\n",
    "//val tp3 = pocketForBlock(67.7, 114.6, 24.7, 5)\n",
    "//tp3.display"
   ]
  },
  {
   "cell_type": "code",
   "execution_count": null,
   "metadata": {},
   "outputs": [],
   "source": [
    "// because pla melts and chip evacuation is not great in my setup, two setups: (1) remove bulk, (2) only the side\n",
    "conf.finishingPass = 0.0\n",
    "val blockInner1 = pocketForBlock(67.7, 114.6, 24.7, 6)\n",
    "blockInner1.save(\"block_inner_1.nc\")\n",
    "conf.finishingPass = 0.2\n",
    "conf.depthOfCut = 3.0\n",
    "val blockOuter1 = pocketForBlock(67.7, 114.6, 24.7, 5, true)\n",
    "blockOuter1.save(\"block_outer_1.nc\")"
   ]
  },
  {
   "cell_type": "code",
   "execution_count": null,
   "metadata": {},
   "outputs": [],
   "source": [
    "// because pla melts and chip evacuation is not great in my setup, two setups: (1) remove bulk, (2) only the side\n",
    "conf.finishingPass = 0.0\n",
    "val blockInner2 = pocketForBlock(67.6, 112.3, 18.2, 6)\n",
    "blockInner2.save(\"block_inner_2.nc\")\n",
    "conf.finishingPass = 0.2\n",
    "conf.depthOfCut = 3.0\n",
    "val blockOuter2 = pocketForBlock(67.6, 112.3, 18.2, 5, true)\n",
    "blockOuter2.save(\"block_outer_2.nc\")"
   ]
  },
  {
   "cell_type": "markdown",
   "metadata": {},
   "source": [
    "# Turner's Cube (not quite, one face)\n",
    "\n",
    "This is a program to do one face of the cube.\n",
    "Repeat 6 time.\n",
    "\n",
    "This is the not version that makes free floating cube as it needs undercut."
   ]
  },
  {
   "cell_type": "code",
   "execution_count": null,
   "metadata": {},
   "outputs": [],
   "source": [
    "/**\n",
    " * @param size is the size of the stock's side (assuming the origin in the center of the face)\n",
    " * @param n (> 0) is the number of cube\n",
    " * @param sideThickness is the tickness of material left on the cube's side after the circle is carved.\n",
    " * @param overlap how much material are left between the cubes\n",
    " */\n",
    "abstract class TurnersCube(size: Double, n: Int, sideThickness: Double,\n",
    "                           overlap: Double = 2.0) extends libgcode.generator.Program(conf) {\n",
    "    \n",
    "    implicit val c = conf\n",
    "    \n",
    "    def cubeSize(i: Int): Double = {\n",
    "        if (i == 0) {\n",
    "            size\n",
    "        } else {\n",
    "            val diameter = circleDiameter(i - 1)\n",
    "            diameter / math.sqrt(2) + 2*overlap\n",
    "        }\n",
    "    }\n",
    "    \n",
    "    def circleDiameter(i: Int): Double = {\n",
    "        val cs = cubeSize(i)\n",
    "        cs - 2 * sideThickness \n",
    "    }\n",
    "    \n",
    "    def printDimension = {\n",
    "        for (i <- n-1 to 0 by -1) {\n",
    "            val cs = cubeSize(i)\n",
    "            val cd = circleDiameter(i)\n",
    "            val d = depth(i+1)\n",
    "            Console.println(s\"$i: cube side = $cs, circle diameter = $cd, depth = $d\")\n",
    "        }\n",
    "    }\n",
    "    \n",
    "    def depth(i: Int) = {\n",
    "        if (i < n) {\n",
    "             (size - cubeSize(i)) / 2\n",
    "        } else {\n",
    "            size / 2 + 1 //add 1 to make sure we push all the way through\n",
    "        }\n",
    "    }\n",
    "\n",
    "}\n",
    "\n",
    "class TurnersCubeHoles(size: Double, n: Int, sideThickness: Double,\n",
    "                       overlap: Double = 2.0) extends TurnersCube(size, n, sideThickness, overlap) {\n",
    "\n",
    "    def body = {\n",
    "        val cmds = ArrayBuffer.empty[Command]\n",
    "        for (i <- 0 until n) {\n",
    "            val startDepth = depth(i) - conf.finishingPass\n",
    "            val endDepth = depth(i+1) - conf.finishingPass\n",
    "            val radius = circleDiameter(i) / 2 - conf.finishingPass\n",
    "            //cmds += G(0, Z(startDepth + conf.travelHeight))\n",
    "            cmds ++= Hole.roughing(0, 0, -startDepth, radius, endDepth - startDepth)\n",
    "        }\n",
    "        for (i <- n-1 to 0 by -1) {\n",
    "            val startDepth = depth(i)\n",
    "            val endDepth = depth(i+1)\n",
    "            val radius = circleDiameter(i) / 2\n",
    "            cmds += G(0, Z(-startDepth + conf.travelHeight))\n",
    "            cmds ++= Hole.finishing(0, 0, -startDepth, radius, endDepth - startDepth)\n",
    "        }\n",
    "        cmds.toSeq\n",
    "    }\n",
    "        \n",
    "}\n",
    "\n",
    "// chamfering the cricles (not the outer edges), assume 45 degree bit\n",
    "class TurnersCubeChamfer(chamfer: Double, size: Double, n: Int, sideThickness: Double,\n",
    "                         overlap: Double = 2.0) extends TurnersCube(size, n, sideThickness, overlap) {\n",
    "    def body = {\n",
    "        val cmds = ArrayBuffer.empty[Command]\n",
    "        val dir = if (conf.climb) 2 else 3\n",
    "        val offsetRadius = conf.endmillRadius * 0.9 - chamfer\n",
    "        assert(offsetRadius > 0.0)\n",
    "        val offsetDepth = offsetRadius + chamfer\n",
    "        for (i <- 0 until n) {\n",
    "            val d = depth(i)\n",
    "            val r = circleDiameter(i) / 2 - offsetRadius\n",
    "            cmds += G(0, X(r), Y(0))\n",
    "            cmds += G(0, Z(-d + conf.travelHeight))\n",
    "            cmds += G(1, Z(-d - offsetDepth), F(conf.plungeFeed))\n",
    "            cmds += G(dir, conf.x(-r), conf.i(-r), F(conf.feed))\n",
    "            cmds += G(dir, conf.x(r), conf.i(r))\n",
    "        }\n",
    "        cmds.toSeq\n",
    "    }\n",
    "}"
   ]
  },
  {
   "cell_type": "code",
   "execution_count": null,
   "metadata": {},
   "outputs": [],
   "source": [
    "// cube dimension\n",
    "val c = 52\n",
    "// facing before cutting the holes\n",
    "conf.feed = 600\n",
    "conf.stepOver = 0.7\n",
    "conf.endmillDiameter = 12.0\n",
    "conf.finishingPass = 0.0\n",
    "conf.depthOfCut = 2.0\n",
    "val s = new Surface(c, c, 1)\n",
    "s.save(\"cube_face.nc\")"
   ]
  },
  {
   "cell_type": "code",
   "execution_count": null,
   "metadata": {},
   "outputs": [],
   "source": [
    "conf.feed = 600\n",
    "conf.stepOver = 0.6\n",
    "conf.endmillDiameter = 6.0\n",
    "conf.finishingPass = 0.8\n",
    "conf.depthOfCut = 2.0\n",
    "val tch = new TurnersCubeHoles(c, 3, 5)\n",
    "//tch.printDimension\n",
    "tch.save(\"cube_holes.nc\")\n",
    "tch.display"
   ]
  },
  {
   "cell_type": "code",
   "execution_count": null,
   "metadata": {},
   "outputs": [],
   "source": [
    "conf.feed = 600\n",
    "conf.endmillDiameter = 3.175\n",
    "val tcc = new TurnersCubeChamfer(1, c, 3, 5)\n",
    "//tcc.printDimension\n",
    "tcc.save(\"cube_chamfer.nc\")\n",
    "tcc.display"
   ]
  },
  {
   "cell_type": "code",
   "execution_count": null,
   "metadata": {},
   "outputs": [],
   "source": [
    "tcc.printDimension"
   ]
  },
  {
   "cell_type": "code",
   "execution_count": null,
   "metadata": {},
   "outputs": [],
   "source": []
  }
 ],
 "metadata": {
  "kernelspec": {
   "display_name": "Scala",
   "language": "scala",
   "name": "scala"
  },
  "language_info": {
   "codemirror_mode": "text/x-scala",
   "file_extension": ".sc",
   "mimetype": "text/x-scala",
   "name": "scala",
   "nbconvert_exporter": "script",
   "version": "2.13.3"
  }
 },
 "nbformat": 4,
 "nbformat_minor": 4
}
