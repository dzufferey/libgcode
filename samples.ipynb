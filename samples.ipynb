{
 "cells": [
  {
   "cell_type": "markdown",
   "metadata": {},
   "source": [
    "# Example use of libgcode\n",
    "\n",
    "This file contains some programs I use on my CNC.\n",
    "For instance, surfacing or making a small workholing jig.\n",
    "I use this when writting the gcode is faster than doing the full CAD+CAM."
   ]
  },
  {
   "cell_type": "markdown",
   "metadata": {},
   "source": [
    "## Setup\n",
    "\n",
    "All the imports.\n",
    "First, adding the additional repo for the dependecies and then loading `libgcode`.\n",
    "Don't forget to run `sbt publishLocal` in the `libgcode` folder."
   ]
  },
  {
   "cell_type": "code",
   "execution_count": 1,
   "metadata": {},
   "outputs": [
    {
     "data": {
      "text/plain": [
       "\u001b[32mimport \u001b[39m\u001b[36mcoursierapi._\n",
       "\u001b[39m"
      ]
     },
     "execution_count": 1,
     "metadata": {},
     "output_type": "execute_result"
    }
   ],
   "source": [
    "import coursierapi._\n",
    "interp.repositories() ++= Seq(MavenRepository.of(\"https://github.com/dzufferey/my_mvn_repo/raw/master/repository\"))"
   ]
  },
  {
   "cell_type": "code",
   "execution_count": 2,
   "metadata": {},
   "outputs": [
    {
     "name": "stderr",
     "output_type": "stream",
     "text": [
      "Checking https://github.com/dzufferey/my_mvn_repo/raw/master/repository/io/github/dzufferey/misc-scala-utils_2.13/0.1-SNAPSHOT/misc-scala-utils_2.13-0.1-SNAPSHOT.pom\n",
      "Checked https://github.com/dzufferey/my_mvn_repo/raw/master/repository/io/github/dzufferey/misc-scala-utils_2.13/0.1-SNAPSHOT/misc-scala-utils_2.13-0.1-SNAPSHOT.pom\n",
      "Downloading https://github.com/dzufferey/my_mvn_repo/raw/master/repository/io/github/dzufferey/misc-scala-utils_2.13/0.1-SNAPSHOT/misc-scala-utils_2.13-0.1-SNAPSHOT.pom\n",
      "Downloaded https://github.com/dzufferey/my_mvn_repo/raw/master/repository/io/github/dzufferey/misc-scala-utils_2.13/0.1-SNAPSHOT/misc-scala-utils_2.13-0.1-SNAPSHOT.pom\n",
      "Checking https://github.com/dzufferey/my_mvn_repo/raw/master/repository/io/github/dzufferey/misc-scala-utils_2.13/0.1-SNAPSHOT/misc-scala-utils_2.13-0.1-SNAPSHOT.pom.sha1\n",
      "Checked https://github.com/dzufferey/my_mvn_repo/raw/master/repository/io/github/dzufferey/misc-scala-utils_2.13/0.1-SNAPSHOT/misc-scala-utils_2.13-0.1-SNAPSHOT.pom.sha1\n",
      "Downloading https://github.com/dzufferey/my_mvn_repo/raw/master/repository/io/github/dzufferey/misc-scala-utils_2.13/0.1-SNAPSHOT/misc-scala-utils_2.13-0.1-SNAPSHOT.pom.sha1\n",
      "Downloaded https://github.com/dzufferey/my_mvn_repo/raw/master/repository/io/github/dzufferey/misc-scala-utils_2.13/0.1-SNAPSHOT/misc-scala-utils_2.13-0.1-SNAPSHOT.pom.sha1\n",
      "Checking https://github.com/dzufferey/my_mvn_repo/raw/master/repository/io/github/dzufferey/misc-scala-utils_2.13/0.1-SNAPSHOT/misc-scala-utils_2.13-0.1-SNAPSHOT-sources.jar\n",
      "Checked https://github.com/dzufferey/my_mvn_repo/raw/master/repository/io/github/dzufferey/misc-scala-utils_2.13/0.1-SNAPSHOT/misc-scala-utils_2.13-0.1-SNAPSHOT-sources.jar\n",
      "Downloading https://github.com/dzufferey/my_mvn_repo/raw/master/repository/io/github/dzufferey/misc-scala-utils_2.13/0.1-SNAPSHOT/misc-scala-utils_2.13-0.1-SNAPSHOT-sources.jar\n",
      "Downloaded https://github.com/dzufferey/my_mvn_repo/raw/master/repository/io/github/dzufferey/misc-scala-utils_2.13/0.1-SNAPSHOT/misc-scala-utils_2.13-0.1-SNAPSHOT-sources.jar\n",
      "Checking https://github.com/dzufferey/my_mvn_repo/raw/master/repository/io/github/dzufferey/misc-scala-utils_2.13/0.1-SNAPSHOT/misc-scala-utils_2.13-0.1-SNAPSHOT.jar\n",
      "Checked https://github.com/dzufferey/my_mvn_repo/raw/master/repository/io/github/dzufferey/misc-scala-utils_2.13/0.1-SNAPSHOT/misc-scala-utils_2.13-0.1-SNAPSHOT.jar\n",
      "Downloading https://github.com/dzufferey/my_mvn_repo/raw/master/repository/io/github/dzufferey/misc-scala-utils_2.13/0.1-SNAPSHOT/misc-scala-utils_2.13-0.1-SNAPSHOT.jar\n",
      "Downloaded https://github.com/dzufferey/my_mvn_repo/raw/master/repository/io/github/dzufferey/misc-scala-utils_2.13/0.1-SNAPSHOT/misc-scala-utils_2.13-0.1-SNAPSHOT.jar\n",
      "Checking https://github.com/dzufferey/my_mvn_repo/raw/master/repository/io/github/dzufferey/misc-scala-utils_2.13/0.1-SNAPSHOT/misc-scala-utils_2.13-0.1-SNAPSHOT-sources.jar.sha1\n",
      "Checked https://github.com/dzufferey/my_mvn_repo/raw/master/repository/io/github/dzufferey/misc-scala-utils_2.13/0.1-SNAPSHOT/misc-scala-utils_2.13-0.1-SNAPSHOT-sources.jar.sha1\n",
      "Downloading https://github.com/dzufferey/my_mvn_repo/raw/master/repository/io/github/dzufferey/misc-scala-utils_2.13/0.1-SNAPSHOT/misc-scala-utils_2.13-0.1-SNAPSHOT-sources.jar.sha1\n",
      "Downloaded https://github.com/dzufferey/my_mvn_repo/raw/master/repository/io/github/dzufferey/misc-scala-utils_2.13/0.1-SNAPSHOT/misc-scala-utils_2.13-0.1-SNAPSHOT-sources.jar.sha1\n",
      "Checking https://github.com/dzufferey/my_mvn_repo/raw/master/repository/io/github/dzufferey/misc-scala-utils_2.13/0.1-SNAPSHOT/misc-scala-utils_2.13-0.1-SNAPSHOT.jar.sha1\n",
      "Checked https://github.com/dzufferey/my_mvn_repo/raw/master/repository/io/github/dzufferey/misc-scala-utils_2.13/0.1-SNAPSHOT/misc-scala-utils_2.13-0.1-SNAPSHOT.jar.sha1\n",
      "Downloading https://github.com/dzufferey/my_mvn_repo/raw/master/repository/io/github/dzufferey/misc-scala-utils_2.13/0.1-SNAPSHOT/misc-scala-utils_2.13-0.1-SNAPSHOT.jar.sha1\n",
      "Downloaded https://github.com/dzufferey/my_mvn_repo/raw/master/repository/io/github/dzufferey/misc-scala-utils_2.13/0.1-SNAPSHOT/misc-scala-utils_2.13-0.1-SNAPSHOT.jar.sha1\n"
     ]
    },
    {
     "data": {
      "text/plain": [
       "\u001b[32mimport \u001b[39m\u001b[36m$ivy.$                                           \n",
       "\u001b[39m\n",
       "\u001b[32mimport \u001b[39m\u001b[36mlibgcode._\n",
       "\u001b[39m\n",
       "\u001b[32mimport \u001b[39m\u001b[36mlibgcode.extractor._\n",
       "\u001b[39m\n",
       "\u001b[32mimport \u001b[39m\u001b[36mjava.io._\n",
       "\u001b[39m\n",
       "\u001b[32mimport \u001b[39m\u001b[36mjava.nio.file._\u001b[39m"
      ]
     },
     "execution_count": 2,
     "metadata": {},
     "output_type": "execute_result"
    }
   ],
   "source": [
    "import $ivy.`io.github.dzufferey::libgcode:0.1-SNAPSHOT`\n",
    "import libgcode._\n",
    "import libgcode.extractor._\n",
    "import java.io._\n",
    "import java.nio.file._"
   ]
  },
  {
   "cell_type": "markdown",
   "metadata": {},
   "source": [
    "We are now ready to go!\n",
    "\n",
    "## Shared Elements\n",
    "\n",
    "Let's pretend to do \"good software engineering\" and factor common parts rather than copy-pasting stuff all over the place. :)"
   ]
  },
  {
   "cell_type": "code",
   "execution_count": 6,
   "metadata": {},
   "outputs": [
    {
     "data": {
      "text/plain": [
       "\u001b[36mabsolute\u001b[39m: \u001b[32mCommand\u001b[39m = \u001b[33mCommand\u001b[39m(G, \u001b[33mList\u001b[39m(\u001b[32m90\u001b[39m), \u001b[33mArraySeq\u001b[39m(), \u001b[32mNone\u001b[39m, \u001b[32mNone\u001b[39m)\n",
       "\u001b[36mincremental\u001b[39m: \u001b[32mCommand\u001b[39m = \u001b[33mCommand\u001b[39m(G, \u001b[33mList\u001b[39m(\u001b[32m91\u001b[39m), \u001b[33mArraySeq\u001b[39m(), \u001b[32mNone\u001b[39m, \u001b[32mNone\u001b[39m)\n",
       "\u001b[36mmm\u001b[39m: \u001b[32mCommand\u001b[39m = \u001b[33mCommand\u001b[39m(G, \u001b[33mList\u001b[39m(\u001b[32m21\u001b[39m), \u001b[33mArraySeq\u001b[39m(), \u001b[32mNone\u001b[39m, \u001b[32mNone\u001b[39m)\n",
       "defined \u001b[32mclass\u001b[39m \u001b[36mProgram\u001b[39m"
      ]
     },
     "execution_count": 6,
     "metadata": {},
     "output_type": "execute_result"
    }
   ],
   "source": [
    "val absolute = G(90)\n",
    "val incremental = G(91)\n",
    "val mm = G(21)\n",
    "\n",
    "abstract class Program {\n",
    "\n",
    "    //start and finish Z\n",
    "    val clearanceZ = 5.0\n",
    "    // default feed\n",
    "    val feed = 100\n",
    "    \n",
    "    \n",
    "    def header = Seq(\n",
    "        mm,\n",
    "        absolute,\n",
    "        Empty(F(feed)),\n",
    "        G(0, Z(clearanceZ))\n",
    "    )\n",
    "    \n",
    "    def body: Seq[Command] //Here you do what you need to do!!\n",
    "    \n",
    "    def footer = Seq(\n",
    "        G(0, Z(clearanceZ)),\n",
    "        M(2)\n",
    "    )\n",
    "    \n",
    "    def program = header ++ body ++ footer\n",
    "\n",
    "    def save(fileName: String) = {\n",
    "        Printer(program, fileName)\n",
    "    }\n",
    "    \n",
    "    override def toString = {\n",
    "        val writer = new StringWriter\n",
    "        Printer(program, new BufferedWriter(writer))\n",
    "        writer.toString\n",
    "    }\n",
    "    \n",
    "}"
   ]
  },
  {
   "cell_type": "markdown",
   "metadata": {},
   "source": [
    "## Surfacing\n",
    "\n",
    "Some simple programs to make flat surfaces."
   ]
  },
  {
   "cell_type": "code",
   "execution_count": 7,
   "metadata": {},
   "outputs": [
    {
     "data": {
      "text/plain": [
       "defined \u001b[32mclass\u001b[39m \u001b[36mCicularSurface\u001b[39m"
      ]
     },
     "execution_count": 7,
     "metadata": {},
     "output_type": "execute_result"
    }
   ],
   "source": [
    "class CicularSurface(cutterDiameter: Double, maxRadius: Double,\n",
    "                     stepOver: Double = 0.9, precision: Double = 0.5,\n",
    "                     climb: Boolean = true) extends Program {\n",
    "\n",
    "    override val feed = 200\n",
    "    val plungeFeed: Double = 100\n",
    "    \n",
    "    val effectiveCutting = cutterDiameter * stepOver\n",
    "    val maxCuttingRadius = maxRadius - cutterDiameter / 2\n",
    "    def r(t: Double) = effectiveCutting * (1 + t /2 / math.Pi)\n",
    "    def x(t: Double) = r(t) * math.cos(if (climb) t else -t)\n",
    "    def y(t: Double) = r(t) * math.sin(if (climb) t else -t)\n",
    "    //find the next t with for the given precision\n",
    "    def nextStep(t: Double) = precision / r(t)\n",
    "    \n",
    "    def body = {\n",
    "        val cmds = scala.collection.mutable.ArrayBuffer.empty[Command]\n",
    "        cmds += G(0, X(effectiveCutting), Y(0.0)) // init position\n",
    "        cmds += G(1, Z(0.0), F(plungeFeed)) // plunge\n",
    "        cmds += Empty(F(feed)) // setNormalFeed\n",
    "        // first do a spiral from the scenter to maxRadius\n",
    "        var t = nextStep(0.0)\n",
    "        while (r(t) < maxCuttingRadius) {\n",
    "            cmds += G(1, X(x(t)), Y(y(t)))\n",
    "            t += nextStep(t)\n",
    "        }\n",
    "        val delta = nextStep(t)\n",
    "        val oldT = t\n",
    "        //then do a normal circle at maxRadius\n",
    "        while (t < oldT + 2 * math.Pi) {\n",
    "            cmds += G(1,\n",
    "                      X(maxCuttingRadius * math.cos(if (climb) t else -t)),\n",
    "                      Y(maxCuttingRadius * math.sin(if (climb) t else -t)))\n",
    "            t += delta\n",
    "        }\n",
    "        cmds.toSeq\n",
    "    }\n",
    "}\n",
    "\n",
    "new CicularSurface(6, 45).save(\"spiral_test.nc\")\n",
    "new CicularSurface(6, 45, climb = false).save(\"spiral_test2.nc\")"
   ]
  },
  {
   "cell_type": "markdown",
   "metadata": {},
   "source": [
    "## Engraving\n",
    "\n",
    "Test engraving with a V-bit.\n",
    "That particular one was for a gift."
   ]
  },
  {
   "cell_type": "code",
   "execution_count": 8,
   "metadata": {},
   "outputs": [
    {
     "data": {
      "text/plain": [
       "defined \u001b[32mclass\u001b[39m \u001b[36mEngravingTest\u001b[39m"
      ]
     },
     "execution_count": 8,
     "metadata": {},
     "output_type": "execute_result"
    }
   ],
   "source": [
    "class EngravingTest extends Program {\n",
    "    \n",
    "    override val feed = 100\n",
    "    \n",
    "    // generated from a bezier curve using blender\n",
    "    val points_half = Seq(\n",
    "       ( 0.000000, 11.086214, 0.000000), \n",
    "       ( 0.806945, 11.764009,-0.015200),\n",
    "       ( 1.640551, 12.316256,-0.059065),\n",
    "       ( 2.493831, 12.747746,-0.128987),\n",
    "       ( 3.360688, 13.063274,-0.222361),\n",
    "       ( 4.235025, 13.267637,-0.336582),\n",
    "       ( 5.110744, 13.365633,-0.469043),\n",
    "       ( 5.981749, 13.362055,-0.617139),\n",
    "       ( 6.841942, 13.261698,-0.778264),\n",
    "       ( 7.685225, 13.069359,-0.949813),\n",
    "       ( 8.505503, 12.789831,-1.129178),\n",
    "       ( 9.296677, 12.427912,-1.313756),\n",
    "       (10.052650, 11.988398,-1.500939),\n",
    "       (10.767326, 11.476082,-1.688122),\n",
    "       (11.434607, 10.895760,-1.872699),\n",
    "       (12.048395, 10.252230,-2.052064),\n",
    "       (12.602596,  9.550283,-2.223613),\n",
    "       (13.091107,  8.794720,-2.384738),\n",
    "       (13.507836,  7.990332,-2.532834),\n",
    "       (13.846685,  7.141917,-2.665295),\n",
    "       (14.101556,  6.254269,-2.779516),\n",
    "       (14.266351,  5.332184,-2.872890),\n",
    "       (14.334973,  4.380458,-2.942812),\n",
    "       (14.301327,  3.403887,-2.986676),\n",
    "       (14.159315,  2.407268,-3.001877),\n",
    "       (13.905559,  1.427261,-2.986677),\n",
    "       (13.547565,  0.495462,-2.942812),\n",
    "       (13.095561, -0.390940,-2.872890),\n",
    "       (12.559774, -1.234758,-2.779516),\n",
    "       (11.950432, -2.038803,-2.665295),\n",
    "       (11.277760, -2.805887,-2.532834),\n",
    "       (10.551985, -3.538822,-2.384738),\n",
    "       ( 9.783336, -4.240419,-2.223613),\n",
    "       ( 8.982038, -4.913491,-2.052064),\n",
    "       ( 8.158319, -5.560850,-1.872699),\n",
    "       ( 7.322405, -6.185307,-1.688122),\n",
    "       ( 6.484524, -6.789674,-1.500939),\n",
    "       ( 5.654902, -7.376763,-1.313756),\n",
    "       ( 4.843767, -7.949385,-1.129178),\n",
    "       ( 4.061346, -8.510353,-0.949813),\n",
    "       ( 3.317865, -9.062479,-0.778264),\n",
    "       ( 2.623551, -9.608573,-0.617139),\n",
    "       ( 1.988631,-10.151449,-0.469043),\n",
    "       ( 1.423333,-10.693916,-0.336582),\n",
    "       ( 0.937883,-11.238791,-0.222361),\n",
    "       ( 0.542508,-11.788879,-0.128987),\n",
    "       ( 0.247436,-12.346998,-0.059065),\n",
    "       ( 0.062892,-12.915956,-0.015201),\n",
    "       ( 0.000000,-13.498569, 0.000000)\n",
    "    )\n",
    "\n",
    "    val scalingX = 2.0\n",
    "    val scalingY = 2.0\n",
    "    val scalingZ = 1.0\n",
    "\n",
    "    val points = {\n",
    "        val p0 = points_half ++ points_half.reverse.tail.map{ case (x,y,z) => (-x,y,z) }\n",
    "        p0.map{ case (x,y,z) => (scalingX * x, scalingY * y, scalingZ * z) }\n",
    "    }\n",
    "\n",
    "    def layer(zOffset: Double) = {\n",
    "        points.map{ case (x,y,z) => G(1, X(x), Y(y), Z(z + zOffset)) }\n",
    "    }\n",
    "    \n",
    "    def body = {\n",
    "        val initPos = G(0, X(points.head._1), Y(points.head._2))\n",
    "        val zPasses = Seq(2.0, 1.0, 0.5, 0.0, -0.2)\n",
    "        initPos +: zPasses.flatMap(layer)\n",
    "    }\n",
    "   \n",
    "}\n",
    "\n",
    "new EngravingTest().save(\"engraving_test.nc\")"
   ]
  },
  {
   "cell_type": "markdown",
   "metadata": {},
   "source": [
    "## Grinding\n",
    "\n",
    "A grinding job.\n",
    "So it moves very slowly along one axis."
   ]
  },
  {
   "cell_type": "code",
   "execution_count": 11,
   "metadata": {},
   "outputs": [
    {
     "data": {
      "text/plain": [
       "defined \u001b[32mfunction\u001b[39m \u001b[36mnbrSteps\u001b[39m\n",
       "defined \u001b[32mfunction\u001b[39m \u001b[36mdirection\u001b[39m\n",
       "\u001b[36mstepSize\u001b[39m: \u001b[32mDouble\u001b[39m = \u001b[32m0.01\u001b[39m\n",
       "\u001b[36myMin\u001b[39m: \u001b[32mDouble\u001b[39m = \u001b[32m-10.0\u001b[39m\n",
       "\u001b[36myMax\u001b[39m: \u001b[32mDouble\u001b[39m = \u001b[32m10.0\u001b[39m\n",
       "defined \u001b[32mclass\u001b[39m \u001b[36mGrindingZ\u001b[39m\n",
       "defined \u001b[32mclass\u001b[39m \u001b[36mGrindingX\u001b[39m"
      ]
     },
     "execution_count": 11,
     "metadata": {},
     "output_type": "execute_result"
    }
   ],
   "source": [
    "def nbrSteps(start: Double, end: Double, stepSize: Double): Int = ((end - start) / stepSize).abs.floor.toInt\n",
    "def direction(start: Double, end: Double) = (end - start).sign\n",
    "\n",
    "val stepSize = 0.01\n",
    "val yMin = -10.0\n",
    "val yMax =  10.0\n",
    "\n",
    "class GrindingZ extends Program {\n",
    "\n",
    "    val zStart    = 0.0\n",
    "    val zEnd      = -3.0\n",
    "\n",
    "    def layer(zIdx: Int) = Seq(\n",
    "        G(1, Z(zStart + zIdx * stepSize * direction(zStart, zEnd))),\n",
    "        G(1, Y(yMax)),\n",
    "        G(0, X(1.0)),\n",
    "        G(0, Y(yMin)),\n",
    "        G(0, X(0.0))\n",
    "    )\n",
    "\n",
    "    def body = for (z <- 0 to nbrSteps(zStart, zEnd, stepSize); cmd <- layer(z)) yield cmd\n",
    "\n",
    "}\n",
    "\n",
    "new GrindingZ().save(\"grinding_z.nc\")\n",
    "\n",
    "//this time move alone the x axis\n",
    "class GrindingX extends Program {\n",
    "\n",
    "    val xStart    = 0.0\n",
    "    val xEnd      = -3.5\n",
    "\n",
    "    def layerX(xIdx: Int) = Seq(\n",
    "        G(1, X(xStart + xIdx * stepSize * direction(xStart, xEnd).sign)),\n",
    "        G(1, Y(yMax)),\n",
    "        G(1, Y(yMin))\n",
    "    )\n",
    "\n",
    "    val body = {\n",
    "        val initPos = Seq(\n",
    "            G(0, X(0), Y(yMin)),\n",
    "            G(1, Z(0)))\n",
    "        val layers = for (i <- 0 to nbrSteps(xStart, xEnd, stepSize); cmd <- layerX(i)) yield cmd\n",
    "        initPos ++ layers\n",
    "    }\n",
    "\n",
    "}\n",
    "\n",
    "new GrindingX().save(\"grinding_x.nc\")"
   ]
  },
  {
   "cell_type": "markdown",
   "metadata": {},
   "source": [
    "## Misc"
   ]
  },
  {
   "cell_type": "code",
   "execution_count": 12,
   "metadata": {},
   "outputs": [
    {
     "data": {
      "text/plain": [
       "defined \u001b[32mobject\u001b[39m \u001b[36mJig1\u001b[39m"
      ]
     },
     "execution_count": 12,
     "metadata": {},
     "output_type": "execute_result"
    }
   ],
   "source": [
    "object Jig1 {\n",
    "\n",
    "    val n = 4\n",
    "    val dy = 15.0\n",
    "    val toKeep = 5.0\n",
    "    val slotDepth = 3.5\n",
    "    val slotWidth = 8.0\n",
    "    val drillDepth = Z(-10)\n",
    "\n",
    "    val cutterDiam = 6.0\n",
    "    val stepOver = 0.9\n",
    "    val feedMetal = F(120)\n",
    "    val feedWood = F(200)\n",
    "    val feedZ = F(100)\n",
    "    val clearZ = Z(5)\n",
    "    \n",
    "    val yMin = Y(-10 - cutterDiam)\n",
    "    val yMax = Y((n-1)*dy + 10 + cutterDiam)\n",
    "    def nextY(i: Int) = if (i % 2 == 0) yMax else yMin\n",
    "    \n",
    "    protected def buffer = {\n",
    "        val cmds = scala.collection.mutable.ArrayBuffer.empty[Command]\n",
    "        cmds += mm\n",
    "        cmds += absolute\n",
    "        cmds += G(1, clearZ, feedZ)\n",
    "        cmds\n",
    "    }\n",
    "    \n",
    "    def slot = {\n",
    "        val cmds = buffer\n",
    "        val passes = ( slotWidth / (cutterDiam * stepOver) ).ceil.toInt\n",
    "        assert(passes > 1 && slotWidth > cutterDiam)\n",
    "        val effectiveSlot = slotWidth - cutterDiam\n",
    "        cmds += G(0, X(-effectiveSlot/2), yMin)\n",
    "        cmds += G(1, Z(-slotDepth), feedZ)    \n",
    "        for (i <- 0 until passes) {\n",
    "            cmds += G(1, X(-effectiveSlot/2 + i * effectiveSlot / (passes-1)), feedWood)\n",
    "            cmds += G(1, nextY(i))\n",
    "        }\n",
    "        cmds += G(0, X(0), Y(0))\n",
    "        cmds += M(2)\n",
    "        cmds.toSeq\n",
    "    }\n",
    "    \n",
    "    def drill = {\n",
    "        val cmds = buffer\n",
    "        cmds += G(0, X(0), Y(0))\n",
    "        for (i <- 0 until 4) {\n",
    "            cmds += G(0, Y(i * dy))\n",
    "            cmds += G(1, drillDepth)\n",
    "            cmds += G(1, clearZ)\n",
    "        }\n",
    "        cmds += G(0, X(0), Y(0))\n",
    "        cmds += M(2)\n",
    "        cmds.toSeq\n",
    "    }\n",
    "    \n",
    "    def cut = {\n",
    "        val dx = (toKeep + cutterDiam) / 2\n",
    "        val cmds = buffer\n",
    "        cmds += G(0, X(-dx), yMin)\n",
    "        cmds += G(1, Z(0), feedZ)\n",
    "        cmds += G(1, yMax, feedMetal)\n",
    "        cmds += G(0, X(dx))\n",
    "        cmds += G(1, yMin)\n",
    "        cmds += G(1, clearZ, feedZ)\n",
    "        cmds += M(2)\n",
    "        cmds.toSeq\n",
    "    }\n",
    "    \n",
    "    def run = {\n",
    "        Printer(slot, \"jig1_slot.nc\")\n",
    "        Printer(drill, \"jig1_drill.nc\")\n",
    "        Printer(cut, \"jig1_cut.nc\")\n",
    "    }\n",
    "}\n",
    "\n",
    "Jig1.run"
   ]
  },
  {
   "cell_type": "code",
   "execution_count": null,
   "metadata": {},
   "outputs": [],
   "source": []
  }
 ],
 "metadata": {
  "kernelspec": {
   "display_name": "Scala",
   "language": "scala",
   "name": "scala"
  },
  "language_info": {
   "codemirror_mode": "text/x-scala",
   "file_extension": ".scala",
   "mimetype": "text/x-scala",
   "name": "scala",
   "nbconvert_exporter": "script",
   "version": "2.13.1"
  }
 },
 "nbformat": 4,
 "nbformat_minor": 4
}
